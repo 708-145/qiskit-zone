{
  "cells": [
    {
      "cell_type": "markdown",
      "metadata": {
        "slideshow": {
          "slide_type": "skip"
        }
      },
      "source": "# Quantum Teleportation Demonstrator\n### --- \"now with (simulated) real quantum magic!\""
    },
    {
      "cell_type": "markdown",
      "metadata": {
        "slideshow": {
          "slide_type": "skip"
        }
      },
      "source": "Let us import some important stuff!"
    },
    {
      "cell_type": "code",
      "execution_count": 8,
      "metadata": {
        "slideshow": {
          "slide_type": "slide"
        },
        "trusted": true
      },
      "outputs": [
        {
          "name": "stderr",
          "output_type": "stream",
          "text": "ibmqfactory.load_account:WARNING:2020-06-26 14:53:33,132: Credentials are already in use. The existing account in the session will be replaced.\n"
        },
        {
          "data": {
            "text/plain": "{'qiskit-terra': '0.14.2',\n 'qiskit-aer': '0.5.2',\n 'qiskit-ignis': '0.3.2',\n 'qiskit-ibmq-provider': '0.7.2',\n 'qiskit-aqua': '0.7.3',\n 'qiskit': '0.19.5'}"
          },
          "execution_count": 8,
          "metadata": {},
          "output_type": "execute_result"
        }
      ],
      "source": "%matplotlib inline\n# Importing standard Qiskit libraries and configuring account\nfrom qiskit import QuantumCircuit, execute, Aer, IBMQ\nfrom qiskit.compiler import transpile, assemble\nfrom qiskit.tools.jupyter import *\nfrom qiskit.visualization import *\n# Loading your IBM Q account(s)\nprovider = IBMQ.load_account()\n\nimport numpy as np\nfrom qiskit import *\nimport qiskit\nfrom qiskit import QuantumRegister, ClassicalRegister\nfrom qiskit import QuantumCircuit, execute, Aer, IBMQ\nfrom qiskit.compiler import transpile, assemble\nfrom qiskit.tools.jupyter import *\nfrom math import pi, sqrt\nfrom qiskit.visualization import plot_histogram\n\nimport matplotlib\nimport matplotlib.pyplot as plt\n\nqiskit.__qiskit_version__"
    },
    {
      "cell_type": "markdown",
      "metadata": {
        "slideshow": {
          "slide_type": "slide"
        }
      },
      "source": "Set up backends `statevector_simulator` and `qasm_simulator`. Initialize qubits and classical bits for Alice and Bob."
    },
    {
      "cell_type": "code",
      "execution_count": 9,
      "metadata": {
        "slideshow": {
          "slide_type": "-"
        },
        "trusted": true
      },
      "outputs": [],
      "source": "q_backend = Aer.get_backend(\"qasm_simulator\")\ns_backend = Aer.get_backend(\"statevector_simulator\")\nshots = 1000\n\n# Alice - two qubits, two classical bits\nq_a0 = QuantumRegister(1, \"a0\")\nq_a1 = QuantumRegister(1, \"a1\")\nc_a0 = ClassicalRegister(1, \"ca0\")\nc_a1 = ClassicalRegister(1, \"ca1\")\n\n# Bob - one qubit, one classical bit\nq_b0 = QuantumRegister(1, \"b0\")\nc_b0 = ClassicalRegister(1, \"cb0\")"
    },
    {
      "cell_type": "markdown",
      "metadata": {
        "slideshow": {
          "slide_type": "slide"
        }
      },
      "source": "Get input for a general quantum state by choosing two random numbers from 0 to 100."
    },
    {
      "cell_type": "code",
      "execution_count": 16,
      "metadata": {
        "slideshow": {
          "slide_type": "-"
        },
        "trusted": true
      },
      "outputs": [
        {
          "name": "stdout",
          "output_type": "stream",
          "text": "please enter a number between 0 and 100  A: 76\n"
        }
      ],
      "source": "A = int(input(\"please enter a number between 0 and 100  A: \"))"
    },
    {
      "cell_type": "markdown",
      "metadata": {
        "slideshow": {
          "slide_type": "slide"
        }
      },
      "source": "Let us have a look at the quantum state defined by your input and check the initializer by simulating with the statevector simulator."
    },
    {
      "cell_type": "code",
      "execution_count": 17,
      "metadata": {
        "slideshow": {
          "slide_type": "-"
        },
        "trusted": true
      },
      "outputs": [
        {
          "name": "stdout",
          "output_type": "stream",
          "text": "Input statevector:     [0.76, 0.6499230723708769]\nSimulated statevector: [0.76      +0.j 0.64992307+0.j]\nRevovered number:      76\n"
        }
      ],
      "source": "A_norm = A/100\nalpha = A_norm\nbeta = sqrt(1-alpha**2)\nqc = QuantumCircuit(q_a0, c_a0, name=\"some_state\")\ninput_state = [alpha, beta]\nqc.initialize(input_state, q_a0)\njob = execute(qc, backend=s_backend)\nresult = job.result()\nsim_state = result.get_statevector()\nA_out = int(round(abs(sim_state[0])*100))\nprint(\"Input statevector:     {}\".format(input_state))\nprint(\"Simulated statevector: {}\".format(sim_state))\nprint(\"Revovered number:      {}\".format(A_out))"
    },
    {
      "cell_type": "markdown",
      "metadata": {
        "slideshow": {
          "slide_type": "skip"
        }
      },
      "source": "### Let the teleportation begin"
    },
    {
      "cell_type": "markdown",
      "metadata": {
        "slideshow": {
          "slide_type": "slide"
        }
      },
      "source": "Hands-On: Prepare the quantum teleportation circuit."
    },
    {
      "cell_type": "code",
      "execution_count": 6,
      "metadata": {
        "slideshow": {
          "slide_type": "-"
        },
        "trusted": true
      },
      "outputs": [
        {
          "data": {
            "text/plain": "<qiskit.circuit.instructionset.InstructionSet at 0x7ff6e07060d0>"
          },
          "execution_count": 6,
          "metadata": {},
          "output_type": "execute_result"
        }
      ],
      "source": "qc = QuantumCircuit(q_a0, q_a1, q_b0, c_a0, c_a1, c_b0, name=\"teleportation\")\n\n# Prepare the initial state\nqc.initialize(input_state, q_a0)\n\n#qc.barrier(q_a0, q_a1, q_b0)  # for better drawing\n\n# Prepare an entangled pair (EPR pair) between Alice and Bob\nqc.h(1)\nqc.cx(q_a1, q_b0)\n\nqc.barrier(q_a0, q_a1, q_b0)  # for better drawing\n\n# Alice to send qubits through CNOT gate\nqc.cx(q_a0, q_a1)\n\nqc.barrier(q_a0, q_a1, q_b0)  # for better drawing\n\n# Alice to send first qubit through Hadamard gate\nqc.h(0)\n\nqc.barrier(q_a0, q_a1, q_b0)  # for better drawing\n\n# Alice measures her qubits\nqc.measure(q_a0, c_a0)\nqc.measure(q_a1, c_a1)\n\n# Transmit results on classical channel\n\nqc.barrier(q_a0, q_a1, q_b0)  # for better drawing\n\n# Apply a correction at Bob\nqc.z(q_b0).c_if(c_a0, 1)\nqc.x(q_b0).c_if(c_a1, 1)\n\n# Measure quantum state by Bob\nqc.measure(q_b0, c_b0)\n\n#qc.draw('mpl')"
    },
    {
      "cell_type": "markdown",
      "metadata": {
        "slideshow": {
          "slide_type": "slide"
        }
      },
      "source": "Simulate the teleportation circuit with the qasm simulator and sum over Alice's qubits to get Bob's result of the measurement."
    },
    {
      "cell_type": "markdown",
      "metadata": {
        "slideshow": {
          "slide_type": "slide"
        }
      },
      "source": "Convert counts into statevector amplitudes and recover teleported number."
    },
    {
      "cell_type": "code",
      "execution_count": 18,
      "metadata": {
        "trusted": true
      },
      "outputs": [],
      "source": "job = execute(qc, backend=q_backend, shots=shots)\nresult = job.result()\ncounts = result.get_counts(qc)\n\nbob = {}\nbob['0'] = 0\nbob['1'] = 0\nfor key, val in counts.items():\n    bob[key[0]] += val\n#print(\"Bob's counts:      {}\".format(bob))\n\n#plot_histogram(bob, title = \"Probability histogram of teleported state\")"
    },
    {
      "cell_type": "code",
      "execution_count": 19,
      "metadata": {
        "slideshow": {
          "slide_type": "-"
        },
        "trusted": true
      },
      "outputs": [
        {
          "name": "stdout",
          "output_type": "stream",
          "text": "Input statevector:     [0.76, 0.6499230723708769]\nSimulated statevector: [1.+0.j 0.+0.j]\nRevovered number:      100\n"
        }
      ],
      "source": "sim_state[0] = sqrt(bob['0']/shots)\nsim_state[1] = sqrt(bob['1']/shots)\nA_out = int(round(abs(sim_state[0])*100))\nprint(\"Input statevector:     {}\".format(input_state))\nprint(\"Simulated statevector: {}\".format(sim_state))\nprint(\"Revovered number:      {}\".format(A_out))"
    },
    {
      "cell_type": "code",
      "execution_count": null,
      "metadata": {
        "trusted": true
      },
      "outputs": [],
      "source": ""
    }
  ],
  "metadata": {
    "kernelspec": {
      "display_name": "Python 3",
      "language": "python",
      "name": "python3"
    },
    "language_info": {
      "codemirror_mode": {
        "name": "ipython",
        "version": 3
      },
      "file_extension": ".py",
      "mimetype": "text/x-python",
      "name": "python",
      "nbconvert_exporter": "python",
      "pygments_lexer": "ipython3",
      "version": "3.7.6"
    }
  },
  "nbformat": 4,
  "nbformat_minor": 2
}