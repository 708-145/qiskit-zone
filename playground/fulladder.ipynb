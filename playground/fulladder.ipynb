{
 "cells": [
  {
   "cell_type": "markdown",
   "metadata": {},
   "source": [
    "## Introduction\n",
    "Full Adder experiment:\n",
    "* forward direction fully specified\n",
    "* backward direction fully specified (with garbage bits from first run)\n",
    "* backward direction partially specified (without garbage bits)\n",
    "* use classical bits as inputs in forward case\n",
    "* use classical bits as required outputs in backward case\n",
    "\n",
    "questions:\n",
    "* how to reverse a circuit in qiskit?\n",
    "* does the partial run end in a superposition of all valid states?\n"
   ]
  },
  {
   "cell_type": "code",
   "execution_count": 6,
   "metadata": {},
   "outputs": [
    {
     "data": {
      "text/html": [
       "<pre style=\"word-wrap: normal;white-space: pre;background: #fff0;line-height: 1.1;font-family: &quot;Courier New&quot;,Courier,monospace\">          ┌───┐      ░ ┌─┐         \n",
       "q_0: ─────┤ X ├──────░─┤M├─────────\n",
       "          └─┬─┘┌───┐ ░ └╥┘┌─┐      \n",
       "q_1: ───────┼──┤ X ├─░──╫─┤M├──────\n",
       "     ┌───┐  │  └─┬─┘ ░  ║ └╥┘┌─┐   \n",
       "q_2: ┤ H ├──■────■───░──╫──╫─┤M├───\n",
       "     └───┘           ░  ║  ║ └╥┘┌─┐\n",
       "q_3: ────────────────░──╫──╫──╫─┤M├\n",
       "                     ░  ║  ║  ║ └╥┘\n",
       "c: 4/═══════════════════╩══╩══╩══╩═\n",
       "                        0  1  2  3 </pre>"
      ],
      "text/plain": [
       "          ┌───┐      ░ ┌─┐         \n",
       "q_0: ─────┤ X ├──────░─┤M├─────────\n",
       "          └─┬─┘┌───┐ ░ └╥┘┌─┐      \n",
       "q_1: ───────┼──┤ X ├─░──╫─┤M├──────\n",
       "     ┌───┐  │  └─┬─┘ ░  ║ └╥┘┌─┐   \n",
       "q_2: ┤ H ├──■────■───░──╫──╫─┤M├───\n",
       "     └───┘           ░  ║  ║ └╥┘┌─┐\n",
       "q_3: ────────────────░──╫──╫──╫─┤M├\n",
       "                     ░  ║  ║  ║ └╥┘\n",
       "c: 4/═══════════════════╩══╩══╩══╩═\n",
       "                        0  1  2  3 "
      ]
     },
     "execution_count": 6,
     "metadata": {},
     "output_type": "execute_result"
    }
   ],
   "source": [
    "%matplotlib inline\n",
    "from qiskit import QuantumCircuit, execute, Aer\n",
    "from qiskit.visualization import *\n",
    "\n",
    "# Create a 4 qubit Quantum Circuit\n",
    "circ = QuantumCircuit(4,4)\n",
    "\n",
    "# forward direction\n",
    "circ.h(2)\n",
    "circ.cx(2, 0)\n",
    "circ.cx(2, 1)\n",
    "\n",
    "# Measure\n",
    "circ.barrier(range(4))\n",
    "circ.measure(range(4),range(4))\n",
    "\n",
    "circ.draw()"
   ]
  },
  {
   "cell_type": "code",
   "execution_count": 4,
   "metadata": {},
   "outputs": [
    {
     "name": "stdout",
     "output_type": "stream",
     "text": [
      "{'000': 546, '111': 478}\n"
     ]
    },
    {
     "data": {
      "image/png": "[encoded data removed]",
      "text/plain": [
       "<Figure size 504x360 with 1 Axes>"
      ]
     },
     "execution_count": 4,
     "metadata": {},
     "output_type": "execute_result"
    }
   ],
   "source": [
    "# Use Aer's qasm_simulator\n",
    "backend_sim = Aer.get_backend('qasm_simulator')\n",
    "\n",
    "# Execute the circuit on the qasm simulator.\n",
    "# We've set the number of repeats of the circuit\n",
    "# to be 1024, which is the default.\n",
    "job_sim = execute(circ, backend_sim, shots=1024)\n",
    "\n",
    "# Grab the results from the job.\n",
    "result_sim = job_sim.result()\n",
    "counts = result_sim.get_counts(circ)\n",
    "print(counts)\n",
    "plot_histogram(counts)"
   ]
  },
  {
   "cell_type": "code",
   "execution_count": null,
   "metadata": {},
   "outputs": [],
   "source": []
  }
 ],
 "metadata": {
  "kernelspec": {
   "display_name": "Python 3",
   "language": "python",
   "name": "python3"
  },
  "language_info": {
   "codemirror_mode": {
    "name": "ipython",
    "version": 3
   },
   "file_extension": ".py",
   "mimetype": "text/x-python",
   "name": "python",
   "nbconvert_exporter": "python",
   "pygments_lexer": "ipython3",
   "version": "3.7.9"
  }
 },
 "nbformat": 4,
 "nbformat_minor": 4
}
